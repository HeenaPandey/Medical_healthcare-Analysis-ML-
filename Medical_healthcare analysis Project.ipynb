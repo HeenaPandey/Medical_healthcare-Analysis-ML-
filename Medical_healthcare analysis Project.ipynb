{
 "cells": [
  {
   "cell_type": "code",
   "execution_count": 1,
   "metadata": {},
   "outputs": [],
   "source": [
    "# The heart attack datasets were collected at Zheen hospital in Erbil, Iraq, from January 2019 to May 2019. \n",
    "#The attributes of this dataset are: age, gender, heart rate, systolic blood pressure, diastolic blood pressure, blood sugar, ck-mb and troponin with negative or positive output.\n",
    "    #According to the provided information, the medical dataset classifies either heart attack or none. \n",
    "    #The gender column in the data is normalized: the male is set to 1 and the female to 0.\n",
    "       # The glucose column is set to 1 if it is > 120; otherwise, 0.\n",
    "       # As for the output, positive is set to 1 and negative to 0. \n",
    "        "
   ]
  },
  {
   "cell_type": "markdown",
   "metadata": {},
   "source": [
    "# Import the libraries"
   ]
  },
  {
   "cell_type": "code",
   "execution_count": 2,
   "metadata": {},
   "outputs": [],
   "source": [
    "import pandas as pd\n",
    "import numpy as np\n",
    "import seaborn as sns\n",
    "import matplotlib.pyplot as plot\n"
   ]
  },
  {
   "cell_type": "markdown",
   "metadata": {},
   "source": [
    "# loading the dataset"
   ]
  },
  {
   "cell_type": "code",
   "execution_count": 3,
   "metadata": {},
   "outputs": [
    {
     "data": {
      "text/html": [
       "<div>\n",
       "<style scoped>\n",
       "    .dataframe tbody tr th:only-of-type {\n",
       "        vertical-align: middle;\n",
       "    }\n",
       "\n",
       "    .dataframe tbody tr th {\n",
       "        vertical-align: top;\n",
       "    }\n",
       "\n",
       "    .dataframe thead th {\n",
       "        text-align: right;\n",
       "    }\n",
       "</style>\n",
       "<table border=\"1\" class=\"dataframe\">\n",
       "  <thead>\n",
       "    <tr style=\"text-align: right;\">\n",
       "      <th></th>\n",
       "      <th>Age</th>\n",
       "      <th>Gender</th>\n",
       "      <th>Heart rate</th>\n",
       "      <th>Systolic blood pressure</th>\n",
       "      <th>Diastolic blood pressure</th>\n",
       "      <th>Blood sugar</th>\n",
       "      <th>CK-MB</th>\n",
       "      <th>Troponin</th>\n",
       "      <th>Result</th>\n",
       "    </tr>\n",
       "  </thead>\n",
       "  <tbody>\n",
       "    <tr>\n",
       "      <th>0</th>\n",
       "      <td>64</td>\n",
       "      <td>1</td>\n",
       "      <td>66</td>\n",
       "      <td>160.0</td>\n",
       "      <td>83</td>\n",
       "      <td>160.0</td>\n",
       "      <td>1.80</td>\n",
       "      <td>0.012</td>\n",
       "      <td>negative</td>\n",
       "    </tr>\n",
       "    <tr>\n",
       "      <th>1</th>\n",
       "      <td>21</td>\n",
       "      <td>1</td>\n",
       "      <td>94</td>\n",
       "      <td>98.0</td>\n",
       "      <td>46</td>\n",
       "      <td>296.0</td>\n",
       "      <td>6.75</td>\n",
       "      <td>1.060</td>\n",
       "      <td>positive</td>\n",
       "    </tr>\n",
       "    <tr>\n",
       "      <th>2</th>\n",
       "      <td>55</td>\n",
       "      <td>1</td>\n",
       "      <td>64</td>\n",
       "      <td>160.0</td>\n",
       "      <td>77</td>\n",
       "      <td>270.0</td>\n",
       "      <td>1.99</td>\n",
       "      <td>0.003</td>\n",
       "      <td>negative</td>\n",
       "    </tr>\n",
       "    <tr>\n",
       "      <th>3</th>\n",
       "      <td>64</td>\n",
       "      <td>1</td>\n",
       "      <td>70</td>\n",
       "      <td>NaN</td>\n",
       "      <td>55</td>\n",
       "      <td>270.0</td>\n",
       "      <td>NaN</td>\n",
       "      <td>0.122</td>\n",
       "      <td>positive</td>\n",
       "    </tr>\n",
       "    <tr>\n",
       "      <th>4</th>\n",
       "      <td>55</td>\n",
       "      <td>1</td>\n",
       "      <td>64</td>\n",
       "      <td>112.0</td>\n",
       "      <td>65</td>\n",
       "      <td>300.0</td>\n",
       "      <td>1.08</td>\n",
       "      <td>0.003</td>\n",
       "      <td>negative</td>\n",
       "    </tr>\n",
       "  </tbody>\n",
       "</table>\n",
       "</div>"
      ],
      "text/plain": [
       "   Age  Gender  Heart rate  Systolic blood pressure  Diastolic blood pressure  \\\n",
       "0   64       1          66                    160.0                        83   \n",
       "1   21       1          94                     98.0                        46   \n",
       "2   55       1          64                    160.0                        77   \n",
       "3   64       1          70                      NaN                        55   \n",
       "4   55       1          64                    112.0                        65   \n",
       "\n",
       "   Blood sugar  CK-MB  Troponin    Result  \n",
       "0        160.0   1.80     0.012  negative  \n",
       "1        296.0   6.75     1.060  positive  \n",
       "2        270.0   1.99     0.003  negative  \n",
       "3        270.0    NaN     0.122  positive  \n",
       "4        300.0   1.08     0.003  negative  "
      ]
     },
     "execution_count": 3,
     "metadata": {},
     "output_type": "execute_result"
    }
   ],
   "source": [
    "data=pd.read_csv('Medicaldataset.csv',header=0)\n",
    "data.head()"
   ]
  },
  {
   "cell_type": "markdown",
   "metadata": {},
   "source": [
    "# The gender column in the data is normalized: the male is set to 1 and the female to 0.\n",
    "  # As for the output, positive is set to 1 and negative to 0. "
   ]
  },
  {
   "cell_type": "code",
   "execution_count": 4,
   "metadata": {},
   "outputs": [
    {
     "data": {
      "text/html": [
       "<div>\n",
       "<style scoped>\n",
       "    .dataframe tbody tr th:only-of-type {\n",
       "        vertical-align: middle;\n",
       "    }\n",
       "\n",
       "    .dataframe tbody tr th {\n",
       "        vertical-align: top;\n",
       "    }\n",
       "\n",
       "    .dataframe thead th {\n",
       "        text-align: right;\n",
       "    }\n",
       "</style>\n",
       "<table border=\"1\" class=\"dataframe\">\n",
       "  <thead>\n",
       "    <tr style=\"text-align: right;\">\n",
       "      <th></th>\n",
       "      <th>Age</th>\n",
       "      <th>Gender</th>\n",
       "      <th>Heart rate</th>\n",
       "      <th>Systolic blood pressure</th>\n",
       "      <th>Diastolic blood pressure</th>\n",
       "      <th>Blood sugar</th>\n",
       "      <th>CK-MB</th>\n",
       "      <th>Troponin</th>\n",
       "      <th>Result</th>\n",
       "    </tr>\n",
       "  </thead>\n",
       "  <tbody>\n",
       "    <tr>\n",
       "      <th>1314</th>\n",
       "      <td>44</td>\n",
       "      <td>1</td>\n",
       "      <td>94</td>\n",
       "      <td>122.0</td>\n",
       "      <td>67</td>\n",
       "      <td>204.0</td>\n",
       "      <td>1.63</td>\n",
       "      <td>0.006</td>\n",
       "      <td>negative</td>\n",
       "    </tr>\n",
       "    <tr>\n",
       "      <th>1315</th>\n",
       "      <td>66</td>\n",
       "      <td>1</td>\n",
       "      <td>84</td>\n",
       "      <td>125.0</td>\n",
       "      <td>55</td>\n",
       "      <td>149.0</td>\n",
       "      <td>1.33</td>\n",
       "      <td>0.172</td>\n",
       "      <td>positive</td>\n",
       "    </tr>\n",
       "    <tr>\n",
       "      <th>1316</th>\n",
       "      <td>45</td>\n",
       "      <td>1</td>\n",
       "      <td>85</td>\n",
       "      <td>168.0</td>\n",
       "      <td>104</td>\n",
       "      <td>96.0</td>\n",
       "      <td>1.24</td>\n",
       "      <td>4.250</td>\n",
       "      <td>positive</td>\n",
       "    </tr>\n",
       "    <tr>\n",
       "      <th>1317</th>\n",
       "      <td>54</td>\n",
       "      <td>1</td>\n",
       "      <td>58</td>\n",
       "      <td>117.0</td>\n",
       "      <td>68</td>\n",
       "      <td>443.0</td>\n",
       "      <td>5.80</td>\n",
       "      <td>0.359</td>\n",
       "      <td>positive</td>\n",
       "    </tr>\n",
       "    <tr>\n",
       "      <th>1318</th>\n",
       "      <td>51</td>\n",
       "      <td>1</td>\n",
       "      <td>94</td>\n",
       "      <td>157.0</td>\n",
       "      <td>79</td>\n",
       "      <td>134.0</td>\n",
       "      <td>50.89</td>\n",
       "      <td>1.770</td>\n",
       "      <td>positive</td>\n",
       "    </tr>\n",
       "  </tbody>\n",
       "</table>\n",
       "</div>"
      ],
      "text/plain": [
       "      Age  Gender  Heart rate  Systolic blood pressure  \\\n",
       "1314   44       1          94                    122.0   \n",
       "1315   66       1          84                    125.0   \n",
       "1316   45       1          85                    168.0   \n",
       "1317   54       1          58                    117.0   \n",
       "1318   51       1          94                    157.0   \n",
       "\n",
       "      Diastolic blood pressure  Blood sugar  CK-MB  Troponin    Result  \n",
       "1314                        67        204.0   1.63     0.006  negative  \n",
       "1315                        55        149.0   1.33     0.172  positive  \n",
       "1316                       104         96.0   1.24     4.250  positive  \n",
       "1317                        68        443.0   5.80     0.359  positive  \n",
       "1318                        79        134.0  50.89     1.770  positive  "
      ]
     },
     "execution_count": 4,
     "metadata": {},
     "output_type": "execute_result"
    }
   ],
   "source": [
    "data.tail()"
   ]
  },
  {
   "cell_type": "code",
   "execution_count": 5,
   "metadata": {},
   "outputs": [
    {
     "data": {
      "text/plain": [
       "(1319, 9)"
      ]
     },
     "execution_count": 5,
     "metadata": {},
     "output_type": "execute_result"
    }
   ],
   "source": [
    "data.shape  # no.of rows & column"
   ]
  },
  {
   "cell_type": "code",
   "execution_count": 6,
   "metadata": {},
   "outputs": [
    {
     "data": {
      "text/plain": [
       "<bound method DataFrame.info of       Age  Gender  Heart rate  Systolic blood pressure  \\\n",
       "0      64       1          66                    160.0   \n",
       "1      21       1          94                     98.0   \n",
       "2      55       1          64                    160.0   \n",
       "3      64       1          70                      NaN   \n",
       "4      55       1          64                    112.0   \n",
       "...   ...     ...         ...                      ...   \n",
       "1314   44       1          94                    122.0   \n",
       "1315   66       1          84                    125.0   \n",
       "1316   45       1          85                    168.0   \n",
       "1317   54       1          58                    117.0   \n",
       "1318   51       1          94                    157.0   \n",
       "\n",
       "      Diastolic blood pressure  Blood sugar  CK-MB  Troponin    Result  \n",
       "0                           83        160.0   1.80     0.012  negative  \n",
       "1                           46        296.0   6.75     1.060  positive  \n",
       "2                           77        270.0   1.99     0.003  negative  \n",
       "3                           55        270.0    NaN     0.122  positive  \n",
       "4                           65        300.0   1.08     0.003  negative  \n",
       "...                        ...          ...    ...       ...       ...  \n",
       "1314                        67        204.0   1.63     0.006  negative  \n",
       "1315                        55        149.0   1.33     0.172  positive  \n",
       "1316                       104         96.0   1.24     4.250  positive  \n",
       "1317                        68        443.0   5.80     0.359  positive  \n",
       "1318                        79        134.0  50.89     1.770  positive  \n",
       "\n",
       "[1319 rows x 9 columns]>"
      ]
     },
     "execution_count": 6,
     "metadata": {},
     "output_type": "execute_result"
    }
   ],
   "source": [
    "data.info "
   ]
  },
  {
   "cell_type": "code",
   "execution_count": 7,
   "metadata": {},
   "outputs": [
    {
     "data": {
      "text/plain": [
       "0"
      ]
     },
     "execution_count": 7,
     "metadata": {},
     "output_type": "execute_result"
    }
   ],
   "source": [
    "data.duplicated().sum()"
   ]
  },
  {
   "cell_type": "markdown",
   "metadata": {},
   "source": [
    "# There is  no duplicates values in this dataset"
   ]
  },
  {
   "cell_type": "code",
   "execution_count": 8,
   "metadata": {},
   "outputs": [
    {
     "data": {
      "text/html": [
       "<div>\n",
       "<style scoped>\n",
       "    .dataframe tbody tr th:only-of-type {\n",
       "        vertical-align: middle;\n",
       "    }\n",
       "\n",
       "    .dataframe tbody tr th {\n",
       "        vertical-align: top;\n",
       "    }\n",
       "\n",
       "    .dataframe thead th {\n",
       "        text-align: right;\n",
       "    }\n",
       "</style>\n",
       "<table border=\"1\" class=\"dataframe\">\n",
       "  <thead>\n",
       "    <tr style=\"text-align: right;\">\n",
       "      <th></th>\n",
       "      <th>count</th>\n",
       "      <th>unique</th>\n",
       "      <th>top</th>\n",
       "      <th>freq</th>\n",
       "      <th>mean</th>\n",
       "      <th>std</th>\n",
       "      <th>min</th>\n",
       "      <th>25%</th>\n",
       "      <th>50%</th>\n",
       "      <th>75%</th>\n",
       "      <th>max</th>\n",
       "    </tr>\n",
       "  </thead>\n",
       "  <tbody>\n",
       "    <tr>\n",
       "      <th>Age</th>\n",
       "      <td>1319</td>\n",
       "      <td>NaN</td>\n",
       "      <td>NaN</td>\n",
       "      <td>NaN</td>\n",
       "      <td>56.1918</td>\n",
       "      <td>13.6473</td>\n",
       "      <td>14</td>\n",
       "      <td>47</td>\n",
       "      <td>58</td>\n",
       "      <td>65</td>\n",
       "      <td>103</td>\n",
       "    </tr>\n",
       "    <tr>\n",
       "      <th>Gender</th>\n",
       "      <td>1319</td>\n",
       "      <td>NaN</td>\n",
       "      <td>NaN</td>\n",
       "      <td>NaN</td>\n",
       "      <td>0.659591</td>\n",
       "      <td>0.474027</td>\n",
       "      <td>0</td>\n",
       "      <td>0</td>\n",
       "      <td>1</td>\n",
       "      <td>1</td>\n",
       "      <td>1</td>\n",
       "    </tr>\n",
       "    <tr>\n",
       "      <th>Heart rate</th>\n",
       "      <td>1319</td>\n",
       "      <td>NaN</td>\n",
       "      <td>NaN</td>\n",
       "      <td>NaN</td>\n",
       "      <td>78.3366</td>\n",
       "      <td>51.6303</td>\n",
       "      <td>20</td>\n",
       "      <td>64</td>\n",
       "      <td>74</td>\n",
       "      <td>85</td>\n",
       "      <td>1111</td>\n",
       "    </tr>\n",
       "    <tr>\n",
       "      <th>Systolic blood pressure</th>\n",
       "      <td>1304</td>\n",
       "      <td>NaN</td>\n",
       "      <td>NaN</td>\n",
       "      <td>NaN</td>\n",
       "      <td>127.078</td>\n",
       "      <td>26.1607</td>\n",
       "      <td>42</td>\n",
       "      <td>110</td>\n",
       "      <td>124</td>\n",
       "      <td>143</td>\n",
       "      <td>223</td>\n",
       "    </tr>\n",
       "    <tr>\n",
       "      <th>Diastolic blood pressure</th>\n",
       "      <td>1319</td>\n",
       "      <td>NaN</td>\n",
       "      <td>NaN</td>\n",
       "      <td>NaN</td>\n",
       "      <td>72.2691</td>\n",
       "      <td>14.0339</td>\n",
       "      <td>38</td>\n",
       "      <td>62</td>\n",
       "      <td>72</td>\n",
       "      <td>81</td>\n",
       "      <td>154</td>\n",
       "    </tr>\n",
       "    <tr>\n",
       "      <th>Blood sugar</th>\n",
       "      <td>1319</td>\n",
       "      <td>NaN</td>\n",
       "      <td>NaN</td>\n",
       "      <td>NaN</td>\n",
       "      <td>146.634</td>\n",
       "      <td>74.923</td>\n",
       "      <td>35</td>\n",
       "      <td>98</td>\n",
       "      <td>116</td>\n",
       "      <td>169.5</td>\n",
       "      <td>541</td>\n",
       "    </tr>\n",
       "    <tr>\n",
       "      <th>CK-MB</th>\n",
       "      <td>1297</td>\n",
       "      <td>NaN</td>\n",
       "      <td>NaN</td>\n",
       "      <td>NaN</td>\n",
       "      <td>15.2329</td>\n",
       "      <td>46.4576</td>\n",
       "      <td>0.321</td>\n",
       "      <td>1.66</td>\n",
       "      <td>2.85</td>\n",
       "      <td>5.77</td>\n",
       "      <td>300</td>\n",
       "    </tr>\n",
       "    <tr>\n",
       "      <th>Troponin</th>\n",
       "      <td>1319</td>\n",
       "      <td>NaN</td>\n",
       "      <td>NaN</td>\n",
       "      <td>NaN</td>\n",
       "      <td>0.360942</td>\n",
       "      <td>1.15457</td>\n",
       "      <td>0.001</td>\n",
       "      <td>0.006</td>\n",
       "      <td>0.014</td>\n",
       "      <td>0.0855</td>\n",
       "      <td>10.3</td>\n",
       "    </tr>\n",
       "    <tr>\n",
       "      <th>Result</th>\n",
       "      <td>1319</td>\n",
       "      <td>2</td>\n",
       "      <td>positive</td>\n",
       "      <td>810</td>\n",
       "      <td>NaN</td>\n",
       "      <td>NaN</td>\n",
       "      <td>NaN</td>\n",
       "      <td>NaN</td>\n",
       "      <td>NaN</td>\n",
       "      <td>NaN</td>\n",
       "      <td>NaN</td>\n",
       "    </tr>\n",
       "  </tbody>\n",
       "</table>\n",
       "</div>"
      ],
      "text/plain": [
       "                         count unique       top freq      mean       std  \\\n",
       "Age                       1319    NaN       NaN  NaN   56.1918   13.6473   \n",
       "Gender                    1319    NaN       NaN  NaN  0.659591  0.474027   \n",
       "Heart rate                1319    NaN       NaN  NaN   78.3366   51.6303   \n",
       "Systolic blood pressure   1304    NaN       NaN  NaN   127.078   26.1607   \n",
       "Diastolic blood pressure  1319    NaN       NaN  NaN   72.2691   14.0339   \n",
       "Blood sugar               1319    NaN       NaN  NaN   146.634    74.923   \n",
       "CK-MB                     1297    NaN       NaN  NaN   15.2329   46.4576   \n",
       "Troponin                  1319    NaN       NaN  NaN  0.360942   1.15457   \n",
       "Result                    1319      2  positive  810       NaN       NaN   \n",
       "\n",
       "                            min    25%    50%     75%   max  \n",
       "Age                          14     47     58      65   103  \n",
       "Gender                        0      0      1       1     1  \n",
       "Heart rate                   20     64     74      85  1111  \n",
       "Systolic blood pressure      42    110    124     143   223  \n",
       "Diastolic blood pressure     38     62     72      81   154  \n",
       "Blood sugar                  35     98    116   169.5   541  \n",
       "CK-MB                     0.321   1.66   2.85    5.77   300  \n",
       "Troponin                  0.001  0.006  0.014  0.0855  10.3  \n",
       "Result                      NaN    NaN    NaN     NaN   NaN  "
      ]
     },
     "execution_count": 8,
     "metadata": {},
     "output_type": "execute_result"
    }
   ],
   "source": [
    "data.describe(include='all').T     # Descriptive statistical approach in the data.."
   ]
  },
  {
   "cell_type": "markdown",
   "metadata": {},
   "source": [
    "# Preprocessing the data"
   ]
  },
  {
   "cell_type": "code",
   "execution_count": 9,
   "metadata": {},
   "outputs": [
    {
     "data": {
      "text/plain": [
       "Age                          0\n",
       "Gender                       0\n",
       "Heart rate                   0\n",
       "Systolic blood pressure     15\n",
       "Diastolic blood pressure     0\n",
       "Blood sugar                  0\n",
       "CK-MB                       22\n",
       "Troponin                     0\n",
       "Result                       0\n",
       "dtype: int64"
      ]
     },
     "execution_count": 9,
     "metadata": {},
     "output_type": "execute_result"
    }
   ],
   "source": [
    "# checking the missing values\n",
    "data.isnull().sum()"
   ]
  },
  {
   "cell_type": "markdown",
   "metadata": {},
   "source": [
    "# Missing values are present in 2 column i.e Systolic blood pressure & CK-MB   "
   ]
  },
  {
   "cell_type": "code",
   "execution_count": 10,
   "metadata": {},
   "outputs": [],
   "source": [
    "# Replacing the missing values with mean()\n",
    "for x in ['Systolic blood pressure','CK-MB'] :\n",
    "    data[x].fillna(data[x].mean(),inplace=True)\n",
    "    "
   ]
  },
  {
   "cell_type": "code",
   "execution_count": 11,
   "metadata": {},
   "outputs": [
    {
     "data": {
      "text/plain": [
       "Age                         0\n",
       "Gender                      0\n",
       "Heart rate                  0\n",
       "Systolic blood pressure     0\n",
       "Diastolic blood pressure    0\n",
       "Blood sugar                 0\n",
       "CK-MB                       0\n",
       "Troponin                    0\n",
       "Result                      0\n",
       "dtype: int64"
      ]
     },
     "execution_count": 11,
     "metadata": {},
     "output_type": "execute_result"
    }
   ],
   "source": [
    "data.isna().sum()"
   ]
  },
  {
   "cell_type": "code",
   "execution_count": 12,
   "metadata": {},
   "outputs": [
    {
     "name": "stdout",
     "output_type": "stream",
     "text": [
      "{'Age': array([ 64,  21,  55,  58,  32,  63,  44,  67,  54,  47,  61,  86,  45,\n",
      "        37,  60,  48,  52,  30,  50,  72,  42,  35,  68,  56,  65,  34,\n",
      "        40,  46,  38,  57,  28,  49,  29,  80,  90,  62,  53,  75,  66,\n",
      "        19,  77,  71,  43,  51,  59,  20,  36,  70,  78,  69,  73,  41,\n",
      "        82,  25,  26,  76,  33,  39,  91,  31,  74,  22,  79,  81,  27,\n",
      "        83,  24,  85,  88, 100,  23,  14,  87, 103,  84], dtype=int64)}\n",
      "{'Gender': array([1, 0], dtype=int64)}\n",
      "{'Heart rate': array([  66,   94,   64,   70,   61,   40,   60,   76,   81,   73,   72,\n",
      "         92,  135,   63,   65,  125,   62,   58,   93,   96,   95,   97,\n",
      "         91,   87,   77,   80,   82,   83,   78,   90,   59,   57,   98,\n",
      "       1111,  102,  103,  105,   74,   85,   75,   71,   68,   67,   56,\n",
      "         89,   88,   86,   79,  100,   69,   84,  110,  120,  122,  119,\n",
      "        116,  114,   55,   53,   54,  117,  112,  108,  134,  111,  101,\n",
      "        113,   51,   52,   99,  132,   50,  107,  104,   49,   46,   20,\n",
      "         36,   45], dtype=int64)}\n",
      "{'Systolic blood pressure': array([160.        ,  98.        , 127.07822086, 112.        ,\n",
      "       214.        , 154.        , 166.        , 199.        ,\n",
      "       120.        , 118.        , 114.        , 100.        ,\n",
      "       107.        , 109.        , 151.        , 110.        ,\n",
      "       104.        , 106.        , 150.        , 152.        ,\n",
      "       134.        , 135.        , 131.        , 137.        ,\n",
      "       121.        , 136.        , 156.        , 155.        ,\n",
      "       105.        ,  91.        , 101.        , 111.        ,\n",
      "       115.        , 133.        , 153.        , 125.        ,\n",
      "       130.        , 140.        , 141.        , 128.        ,\n",
      "       123.        ,  94.        ,  95.        , 117.        ,\n",
      "       119.        , 138.        , 157.        , 202.        ,\n",
      "       175.        , 124.        , 144.        , 129.        ,\n",
      "        97.        , 116.        , 113.        , 148.        ,\n",
      "       164.        , 192.        , 171.        , 108.        ,\n",
      "        85.        ,  89.        ,  87.        ,  99.        ,\n",
      "        96.        ,  86.        ,  70.        ,  71.        ,\n",
      "        78.        , 127.        , 122.        , 126.        ,\n",
      "       170.        , 169.        , 149.        , 168.        ,\n",
      "       191.        , 145.        , 193.        , 167.        ,\n",
      "       165.        , 146.        ,  93.        , 180.        ,\n",
      "        42.        , 220.        , 147.        , 142.        ,\n",
      "       102.        , 103.        , 143.        , 139.        ,\n",
      "       178.        ,  80.        ,  84.        ,  83.        ,\n",
      "        65.        , 208.        ,  76.        ,  90.        ,\n",
      "        92.        , 183.        ,  88.        , 132.        ,\n",
      "       158.        , 161.        , 176.        , 159.        ,\n",
      "       198.        , 204.        , 200.        , 162.        ,\n",
      "       177.        , 179.        , 223.        ,  67.        ,\n",
      "       209.        ])}\n",
      "{'Diastolic blood pressure': array([ 83,  46,  77,  55,  65,  58,  68,  82,  81,  95,  90,  99,  67,\n",
      "        70,  66,  86,  78,  60,  85,  63,  57,  61,  49,  62,  76,  75,\n",
      "        71,  52,  80,  74,  73,  69,  94,  88,  64,  59,  93,  54,  56,\n",
      "        44,  72,  89,  51,  50,  79,  47,  92, 103,  97, 110,  84, 104,\n",
      "       100,  42, 128, 107,  91,  98,  38,  53,  48,  87, 106,  41,  40,\n",
      "       105, 102, 118, 109,  43,  45,  96, 154], dtype=int64)}\n",
      "{'Blood sugar': array([160. , 296. , 270. , 300. ,  87. , 102. , 135. , 100. , 198. ,\n",
      "        92. ,  97. , 319. , 134. ,  96. , 274. ,  89. , 301. , 227. ,\n",
      "       107. , 269. , 111. , 101. ,  95. , 279. , 166. , 321. ,  98. ,\n",
      "       105. , 136. ,  82. , 117. , 120. , 208. , 125. , 103. ,  93. ,\n",
      "        99. , 228. , 238. , 133. , 113. ,  91. , 114. , 149. , 110. ,\n",
      "       251. , 191. , 334. , 109. , 201. , 167. ,  85. , 112. , 123. ,\n",
      "        86. , 177. ,  90. , 115. , 392. , 147. , 141. , 222. , 174. ,\n",
      "       162. , 219. , 189. , 193. , 181. , 387. , 121. , 294. , 116. ,\n",
      "        88. , 240. , 132. , 159. ,  81. , 266. , 142. , 244. , 130. ,\n",
      "       182. ,  94. ,  83. , 241. , 318. ,  66. , 156. , 108. , 322. ,\n",
      "       187. , 122. , 362. , 180. , 127. , 131. ,  84. , 137. , 242. ,\n",
      "       106. , 197. , 152. , 169. , 347. , 104. , 165. , 126. , 215. ,\n",
      "        61. ,  80. , 195. , 150. , 194. , 233. , 462. , 422. , 245. ,\n",
      "       168. , 188. , 129. , 200. , 146. , 140. , 382. , 217. , 303. ,\n",
      "       154. , 221. , 186. , 218. ,  68. , 175. ,  50. , 203. , 119. ,\n",
      "        77. , 431. , 202. , 118. , 184. , 246. , 157. , 155. , 230. ,\n",
      "       225. , 368. , 408. , 302. , 500. , 145. , 541. , 163. ,  76. ,\n",
      "        78. , 415. , 170. , 351. , 204. , 443. , 407. , 290. , 144. ,\n",
      "       220. , 381. , 196. , 190. , 267. , 256. , 257. , 261. , 234. ,\n",
      "       139. , 235. , 404. , 425. , 366. , 210. , 226. , 207. , 161. ,\n",
      "       211. , 258. , 342. , 276. , 216. , 124. , 143. , 249. , 185. ,\n",
      "       336. , 324. , 263. ,  60. , 128. , 346. , 151. , 232. , 271. ,\n",
      "       283. , 148. , 293. , 305. , 338. , 282. ,  79. , 354. , 277. ,\n",
      "       153. , 164. , 328. , 223. ,  74. , 239. , 231. , 229. ,  67. ,\n",
      "        62. , 262. , 246.7, 138. , 391. ,  35. , 252. ,  75. , 224. ,\n",
      "        69. , 272. , 314. , 247. , 253. , 434. ,  64. , 297. ,  65. ,\n",
      "       406. , 206. , 171. , 259. , 265. , 250. , 329. , 285. , 192. ,\n",
      "       331. ])}\n",
      "{'CK-MB': array([  1.8       ,   6.75      ,   1.99      ,  15.23294449,\n",
      "         1.08      ,   1.83      ,   0.71      , 300.        ,\n",
      "         2.35      ,   2.39      ,   3.43      ,   1.42      ,\n",
      "         2.57      ,   1.49      ,   1.11      ,   0.606     ,\n",
      "         2.89      ,   1.6       ,   0.665     ,  50.46      ,\n",
      "        38.72      ,   2.11      ,   2.93      ,   1.61      ,\n",
      "         0.493     ,   1.31      ,   4.58      ,   6.48      ,\n",
      "         0.929     ,   6.78      ,   4.24      ,   1.3       ,\n",
      "         0.609     ,  15.23      ,   1.54      ,  16.95      ,\n",
      "         2.97      ,   4.22      ,   1.29      ,   4.8       ,\n",
      "         1.33      ,   1.19      ,   0.78      ,   2.28      ,\n",
      "         4.39      ,  19.47      ,   2.41      ,  36.24      ,\n",
      "         2.21      ,   2.19      ,   5.33      ,   5.22      ,\n",
      "         1.63      ,   1.24      ,   5.8       ,   3.29      ,\n",
      "         0.937     ,   4.45      ,   4.02      ,  18.15      ,\n",
      "         0.865     ,   3.3       ,   0.718     ,   3.45      ,\n",
      "         7.65      ,   0.994     ,   1.53      ,  31.97      ,\n",
      "         2.91      ,   3.2       ,   9.35      ,  12.02      ,\n",
      "         4.66      ,   4.18      ,   5.81      ,   0.633     ,\n",
      "         2.69      ,   1.06      ,   4.82      ,   2.13      ,\n",
      "         2.85      ,   6.91      ,   1.98      ,  19.5       ,\n",
      "         0.468     ,   1.64      ,   1.87      ,   1.69      ,\n",
      "         3.27      ,   3.75      ,   1.51      ,   2.16      ,\n",
      "         5.27      ,   1.96      ,  40.99      ,  96.08      ,\n",
      "        51.9       ,  74.45      ,   8.84      ,   6.28      ,\n",
      "         2.2       ,  49.8       ,   2.27      ,   2.15      ,\n",
      "         0.452     ,   2.        ,  35.55      ,   3.25      ,\n",
      "        21.61      ,   2.26      ,  14.21      ,   4.16      ,\n",
      "         1.5       ,   1.73      ,   2.46      ,   2.38      ,\n",
      "         4.61      ,   1.36      ,   2.58      , 264.4       ,\n",
      "         0.687     ,  20.71      ,   7.02      ,   2.42      ,\n",
      "         4.37      ,   4.76      ,   3.84      ,   2.74      ,\n",
      "         1.65      ,   1.27      ,   1.2       ,   0.743     ,\n",
      "        39.53      ,   5.6       ,   3.58      ,   4.56      ,\n",
      "         3.26      ,   2.37      ,   3.36      ,  20.21      ,\n",
      "         4.43      ,   3.32      ,  16.08      ,   3.09      ,\n",
      "         6.14      ,   0.683     ,   6.17      ,   8.57      ,\n",
      "         1.76      ,   2.99      , 286.9       ,   0.487     ,\n",
      "         3.77      ,   1.67      ,   2.82      ,   0.998     ,\n",
      "        25.74      ,   0.596     ,  16.62      ,   7.32      ,\n",
      "         2.96      ,   4.55      ,   2.94      ,   4.69      ,\n",
      "         2.14      ,   0.676     ,   0.879     ,   2.31      ,\n",
      "        25.36      ,   2.73      ,   3.7       ,   3.24      ,\n",
      "         1.46      ,   1.28      ,  98.48      ,   3.86      ,\n",
      "         2.61      ,   4.        ,   3.35      ,   4.73      ,\n",
      "         4.29      ,   2.7       ,   1.16      ,   6.27      ,\n",
      "         5.16      ,   3.85      ,  14.07      , 101.9       ,\n",
      "         3.        ,   1.77      , 134.7       ,   2.78      ,\n",
      "         0.722     ,   2.9       ,   2.98      ,   2.49      ,\n",
      "         3.23      ,   2.04      ,   1.9       ,   3.14      ,\n",
      "        16.55      ,   2.33      ,  10.78      ,   1.81      ,\n",
      "        13.97      ,   1.68      ,   2.03      ,   1.82      ,\n",
      "         2.05      ,   2.72      ,   7.64      ,   0.813     ,\n",
      "         5.86      ,  43.83      ,   0.821     ,  15.67      ,\n",
      "         3.76      ,  99.56      ,   2.12      ,   5.46      ,\n",
      "         3.64      ,   7.19      ,   2.64      ,   0.961     ,\n",
      "         1.22      ,   1.93      ,   3.94      ,   8.23      ,\n",
      "         5.37      ,   3.46      ,   1.41      ,   2.5       ,\n",
      "         7.01      ,   2.09      ,   1.43      ,  64.86      ,\n",
      "         0.51      ,   0.958     ,   2.54      ,   2.25      ,\n",
      "         0.921     ,   3.11      ,   1.45      ,   2.22      ,\n",
      "        23.97      ,  95.34      ,   7.97      ,   2.24      ,\n",
      "       104.3       ,  13.92      ,   6.4       ,   2.6       ,\n",
      "         1.85      ,   3.97      ,  18.96      ,   5.23      ,\n",
      "         4.28      ,  25.97      ,   3.98      ,   2.68      ,\n",
      "         5.43      ,   3.08      ,  12.3       ,   0.353     ,\n",
      "         8.87      ,   6.13      ,  10.44      ,   0.979     ,\n",
      "         5.83      ,  12.41      ,  34.36      ,   3.04      ,\n",
      "        21.04      ,   2.8       ,   5.87      ,   2.65      ,\n",
      "         5.34      ,  11.32      ,   3.93      ,   2.51      ,\n",
      "         1.47      ,   0.942     ,   8.15      ,   6.11      ,\n",
      "         0.583     ,   8.93      ,   1.71      ,  17.61      ,\n",
      "         3.28      ,   0.966     ,   3.52      ,  96.02      ,\n",
      "         0.345     ,   7.44      ,   0.607     ,   2.92      ,\n",
      "         5.39      ,   5.36      ,   1.26      ,   2.18      ,\n",
      "         0.755     ,   4.71      ,  18.41      ,   2.55      ,\n",
      "        17.95      ,  38.94      ,   1.34      ,   0.745     ,\n",
      "        23.11      ,  12.22      ,   1.78      ,  17.3       ,\n",
      "         3.48      ,   4.23      ,   9.9       , 185.1       ,\n",
      "         2.71      , 207.5       ,   1.74      ,   1.92      ,\n",
      "         1.72      ,   1.03      , 165.        ,   4.11      ,\n",
      "       266.3       ,   6.3       ,   1.94      ,   2.84      ,\n",
      "         7.52      ,  94.79      ,   1.37      ,   3.18      ,\n",
      "        40.6       ,   2.3       ,  17.04      ,   1.97      ,\n",
      "        14.01      ,  11.73      ,   1.95      ,   8.37      ,\n",
      "         3.05      ,   4.01      ,   1.58      , 142.6       ,\n",
      "         9.06      ,   5.41      ,  22.91      ,   6.25      ,\n",
      "         5.11      ,  70.89      ,   3.68      ,   7.55      ,\n",
      "         4.49      ,   0.726     ,   8.4       ,   1.79      ,\n",
      "         5.82      ,   8.38      ,   4.47      ,   7.29      ,\n",
      "         4.25      ,  27.06      ,  12.39      ,  11.24      ,\n",
      "         6.66      ,   7.66      ,   1.25      ,   5.73      ,\n",
      "         3.49      ,   3.42      ,   0.657     ,  15.83      ,\n",
      "         0.604     ,   0.515     ,   8.86      ,  10.33      ,\n",
      "         1.18      ,  61.1       ,   4.36      ,   0.529     ,\n",
      "         1.35      ,   4.74      ,  13.98      ,  36.53      ,\n",
      "         2.67      ,   1.21      ,   5.51      ,   5.61      ,\n",
      "         3.03      ,   9.96      ,   3.1       ,  11.48      ,\n",
      "        24.2       , 259.7       ,   1.59      ,   2.4       ,\n",
      "        56.39      ,  33.87      ,  12.2       ,   1.4       ,\n",
      "       147.4       ,   1.75      ,   4.62      ,   1.44      ,\n",
      "         1.66      ,   0.649     ,   8.32      ,   4.06      ,\n",
      "         2.87      ,   2.56      ,   0.907     ,   4.1       ,\n",
      "         1.13      ,  23.8       ,   8.34      ,   3.21      ,\n",
      "        58.29      ,  13.73      ,   5.02      ,   4.2       ,\n",
      "         1.86      ,  33.48      ,   8.95      ,   6.04      ,\n",
      "         5.75      ,   1.52      ,   4.96      ,   5.77      ,\n",
      "        19.01      ,  52.94      ,   3.38      , 297.5       ,\n",
      "         3.73      ,  15.69      ,   7.73      , 254.4       ,\n",
      "         1.02      ,  10.04      ,   1.09      ,   2.86      ,\n",
      "         4.15      ,   3.83      ,   6.71      ,   2.02      ,\n",
      "        17.32      ,  14.22      ,   3.69      ,   4.72      ,\n",
      "         3.47      ,   1.62      , 217.5       ,   4.93      ,\n",
      "         2.53      ,  12.26      ,   3.95      ,   3.61      ,\n",
      "         3.17      ,   8.8       ,   3.87      ,   2.63      ,\n",
      "        11.64      ,   0.799     ,   8.12      ,   1.57      ,\n",
      "         0.925     ,   1.7       ,   4.68      ,   1.04      ,\n",
      "         4.03      ,  15.88      ,   5.68      ,   1.07      ,\n",
      "         4.6       ,   6.01      ,   3.4       ,   5.15      ,\n",
      "        37.69      ,   3.65      ,   4.95      ,  72.6       ,\n",
      "        32.77      ,   0.796     ,   0.704     ,   2.34      ,\n",
      "        63.13      ,   7.48      ,   0.88      ,  31.4       ,\n",
      "         1.39      ,   1.01      ,   8.08      ,   0.457     ,\n",
      "         7.26      , 177.9       ,  42.15      ,  79.41      ,\n",
      "         0.92      ,  43.06      ,   4.14      ,   3.96      ,\n",
      "       251.4       ,   0.982     ,   9.05      ,   6.38      ,\n",
      "         2.79      ,  89.61      ,  17.63      ,   5.1       ,\n",
      "         0.674     , 190.7       , 144.9       , 201.7       ,\n",
      "         2.59      ,   6.36      ,  25.1       ,   6.19      ,\n",
      "        89.22      ,   1.17      ,  10.11      ,   3.15      ,\n",
      "         9.82      ,  63.08      ,   9.09      ,   1.48      ,\n",
      "        44.18      ,   3.53      ,   4.26      ,   4.21      ,\n",
      "        19.98      ,   1.1       ,   5.49      ,   0.856     ,\n",
      "         3.39      ,   3.59      ,   1.12      ,   3.33      ,\n",
      "         3.12      ,   0.858     ,  21.51      ,  66.32      ,\n",
      "         0.516     ,   2.1       , 107.3       ,  25.63      ,\n",
      "        11.94      ,   2.36      ,  28.41      ,   5.85      ,\n",
      "         2.83      ,   5.66      ,   2.62      ,  33.09      ,\n",
      "         4.07      ,  81.65      ,   4.08      ,  17.22      ,\n",
      "       208.6       ,   3.41      ,   3.5       ,   3.13      ,\n",
      "        11.07      ,   6.61      ,   4.4       ,   4.78      ,\n",
      "         0.785     ,  15.32      ,   3.78      ,   1.32      ,\n",
      "        13.7       , 111.        ,  10.18      ,   6.63      ,\n",
      "         1.88      ,   4.79      ,  60.68      ,   0.898     ,\n",
      "        81.84      , 247.8       ,   3.07      ,   2.47      ,\n",
      "         4.84      ,   3.72      ,   2.43      ,  10.75      ,\n",
      "         5.01      ,   0.321     ,   3.63      ,  71.77      ,\n",
      "         4.34      ,   1.15      ,  31.85      ,   9.63      ,\n",
      "        11.87      ,   4.67      ,   7.67      ,   2.52      ,\n",
      "         4.87      ,  79.62      ,   3.57      ,  32.53      ,\n",
      "         0.706     ,   4.19      ,   8.54      ,   7.61      ,\n",
      "        69.32      ,   4.41      ,   4.57      ,  11.45      ,\n",
      "         7.3       ,   6.57      ,   0.68      ,   7.03      ,\n",
      "        19.63      ,   5.17      ,   2.66      ,   8.66      ,\n",
      "        61.2       ,  14.97      ,   3.71      ,   4.13      ,\n",
      "         0.863     ,   7.47      ,   6.74      ,   4.35      ,\n",
      "        16.1       ,  12.89      ,  10.26      ,  18.43      ,\n",
      "         8.47      ,   8.49      ,  24.64      ,  43.51      ,\n",
      "        46.1       ,  88.28      ,   0.569     ,   7.06      ,\n",
      "        33.95      ,   5.57      ,  51.96      ,   2.17      ,\n",
      "         0.681     ,   0.826     ,   0.89      ,   9.71      ,\n",
      "        10.42      ,   1.        ,   6.03      ,   4.05      ,\n",
      "        99.62      ,   0.728     ,   2.88      ,   5.65      ,\n",
      "         4.17      ,   0.684     ,   6.67      ,  19.26      ,\n",
      "        31.06      ,  39.63      ,  78.89      ,   6.15      ,\n",
      "         2.07      ,   8.14      ,  42.5       ,  25.56      ,\n",
      "        31.22      ,   5.08      ,   8.69      ,   3.81      ,\n",
      "        27.31      ,   9.51      ,   8.21      ,   5.58      ,\n",
      "         4.64      ,   0.746     ,  11.4       ,  25.04      ,\n",
      "         6.41      ,   0.483     ,  33.7       ,   0.973     ,\n",
      "         1.89      ,   4.32      ,   6.47      ,  39.34      ,\n",
      "        27.57      ,  12.57      ,   5.78      ,  14.72      ,\n",
      "         7.05      , 261.        ,  50.89      ,  13.87      ])}\n",
      "{'Troponin': array([1.20e-02, 1.06e+00, 3.00e-03, 1.22e-01, 4.00e-03, 2.37e+00,\n",
      "       1.10e-02, 6.00e-03, 1.30e-02, 5.37e+00, 1.70e-02, 7.76e-01,\n",
      "       2.00e-02, 5.00e-03, 4.91e-01, 6.12e-01, 1.39e+00, 7.00e-03,\n",
      "       1.00e+01, 8.30e+00, 2.10e-02, 1.15e+00, 1.46e-01, 8.00e-03,\n",
      "       2.60e-02, 5.30e-02, 9.00e-03, 6.70e-02, 4.00e-02, 1.00e-02,\n",
      "       3.10e-02, 1.50e-02, 7.60e-02, 5.20e-02, 1.01e+00, 8.90e-02,\n",
      "       2.80e-02, 7.03e-01, 8.50e-02, 2.19e-01, 8.64e-01, 1.05e-01,\n",
      "       4.80e-02, 8.88e-01, 1.60e-02, 1.07e+00, 2.20e-02, 6.05e+00,\n",
      "       7.10e-02, 1.03e-01, 2.30e-02, 3.80e-02, 5.10e-02, 2.90e-02,\n",
      "       1.40e-02, 2.23e+00, 1.55e+00, 1.84e+00, 6.40e-01, 7.67e+00,\n",
      "       6.10e-02, 9.40e-02, 2.70e-02, 5.40e-02, 2.52e-01, 1.79e+00,\n",
      "       1.95e+00, 3.92e-01, 3.27e-01, 4.60e-02, 1.24e+00, 1.78e-01,\n",
      "       1.90e-02, 1.97e+00, 6.81e-01, 1.06e-01, 1.46e+00, 6.30e-02,\n",
      "       1.23e+00, 2.86e+00, 1.64e-01, 1.86e+00, 3.20e-02, 2.40e-02,\n",
      "       2.50e-02, 1.42e-01, 2.99e+00, 1.00e-03, 1.71e-01, 2.80e-01,\n",
      "       9.70e-02, 2.00e-03, 3.39e+00, 1.33e+00, 4.26e-01, 6.80e-02,\n",
      "       3.53e-01, 8.16e-01, 5.98e-01, 7.70e-01, 3.00e-02, 3.40e-02,\n",
      "       2.00e-01, 2.92e-01, 7.00e-02, 3.24e-01, 1.18e+00, 2.45e-01,\n",
      "       1.12e-01, 5.05e+00, 2.67e-01, 1.88e-01, 3.60e-02, 1.79e-01,\n",
      "       5.18e-01, 4.25e-01, 4.31e-01, 2.73e+00, 1.45e-01, 3.31e-01,\n",
      "       4.01e-01, 2.88e-01, 1.80e-02, 4.20e-02, 2.96e+00, 9.50e-02,\n",
      "       2.62e-01, 2.42e+00, 8.10e-02, 1.17e-01, 4.12e-01, 6.93e-01,\n",
      "       3.72e-01, 3.50e-02, 3.85e-01, 1.25e+00, 5.54e-01, 1.83e+00,\n",
      "       1.35e+00, 9.29e-01, 9.80e-02, 3.90e-02, 1.96e+00, 2.63e+00,\n",
      "       4.92e-01, 6.20e-02, 9.88e-01, 1.77e-01, 9.60e-02, 3.28e+00,\n",
      "       1.87e-01, 2.03e-01, 1.62e+00, 5.31e+00, 3.23e+00, 5.80e-02,\n",
      "       4.40e-02, 2.71e-01, 4.32e+00, 1.21e+00, 4.54e-01, 1.63e+00,\n",
      "       2.48e+00, 5.48e+00, 1.38e-01, 4.52e-01, 9.11e+00, 9.80e-01,\n",
      "       2.53e+00, 6.28e-01, 1.01e-01, 7.58e-01, 2.39e+00, 2.34e+00,\n",
      "       6.97e-01, 8.53e-01, 9.92e-01, 4.57e-01, 6.27e-01, 1.96e-01,\n",
      "       1.64e+00, 1.19e-01, 6.43e-01, 1.76e+00, 3.70e-02, 1.28e+00,\n",
      "       6.53e-01, 2.47e+00, 2.35e+00, 4.30e-02, 6.62e-01, 1.92e-01,\n",
      "       1.00e-01, 2.87e+00, 1.54e-01, 2.81e+00, 1.91e-01, 8.66e-01,\n",
      "       1.32e+00, 1.65e-01, 1.30e+00, 1.36e+00, 2.09e-01, 3.85e+00,\n",
      "       8.47e-01, 5.23e-01, 1.48e+00, 9.90e-02, 1.47e+00, 4.10e-02,\n",
      "       1.50e+00, 1.29e+00, 9.59e-01, 1.30e-01, 4.90e-02, 1.36e-01,\n",
      "       2.18e-01, 9.37e-01, 3.21e+00, 1.31e+00, 8.17e-01, 2.32e+00,\n",
      "       1.17e+00, 7.50e-02, 1.43e+00, 8.20e-02, 3.14e-01, 3.83e+00,\n",
      "       1.44e+00, 5.00e-02, 2.57e+00, 8.51e-01, 2.12e+00, 1.60e+00,\n",
      "       2.98e-01, 9.10e-01, 1.14e-01, 4.07e-01, 9.99e-01, 8.70e-02,\n",
      "       4.85e-01, 6.90e-02, 1.85e+00, 2.06e+00, 7.01e-01, 7.06e-01,\n",
      "       4.06e-01, 7.70e-02, 1.58e+00, 5.87e+00, 1.09e-01, 6.10e-01,\n",
      "       8.63e-01, 7.22e-01, 3.25e-01, 1.38e+00, 1.40e+00, 6.49e-01,\n",
      "       3.57e-01, 2.43e+00, 3.54e-01, 6.50e-02, 2.08e-01, 1.29e-01,\n",
      "       1.41e-01, 4.02e-01, 9.12e-01, 1.93e-01, 4.50e-02, 1.10e+00,\n",
      "       2.20e+00, 1.04e-01, 1.45e+00, 4.84e-01, 7.40e-01, 5.40e-01,\n",
      "       8.30e-01, 8.40e-01, 1.75e+00, 8.80e-01, 9.40e-01, 1.16e-01,\n",
      "       2.20e-01, 2.80e+00, 7.60e-01, 4.05e-01, 2.30e-01, 2.24e-01,\n",
      "       6.01e+00, 2.99e-01, 6.09e-01, 7.90e-01, 7.10e-01, 6.02e-01,\n",
      "       1.52e-01, 8.10e-01, 1.03e+01, 8.80e-02, 5.90e-02, 6.00e-02,\n",
      "       5.53e-01, 7.40e-02, 5.49e-01, 7.95e-01, 1.51e+00, 1.47e-01,\n",
      "       2.29e+00, 2.50e+00, 8.30e-02, 8.60e-02, 3.97e-01, 9.98e-01,\n",
      "       1.26e+00, 7.80e-02, 5.07e-01, 3.48e-01, 5.40e+00, 2.16e+00,\n",
      "       3.77e+00, 5.11e+00, 9.30e-01, 8.00e-02, 7.00e-01, 1.28e-01,\n",
      "       1.81e+00, 1.94e+00, 5.70e-02, 6.35e-01, 9.16e-01, 6.60e-02,\n",
      "       5.50e-02, 2.79e-01, 3.34e+00, 9.23e-01, 9.20e-02, 4.34e-01,\n",
      "       2.95e-01, 4.61e-01, 7.20e-02, 1.97e-01, 1.10e-01, 1.53e+00,\n",
      "       1.04e+00, 5.44e-01, 2.55e-01, 1.37e+00, 4.50e-01, 2.63e-01,\n",
      "       1.72e-01, 4.25e+00, 3.59e-01, 1.77e+00])}\n",
      "{'Result': array(['negative', 'positive'], dtype=object)}\n"
     ]
    }
   ],
   "source": [
    "for i in data.columns:\n",
    "    print({i:data[i].unique()}) # there is no unique values  all are countinous numbers in the data"
   ]
  },
  {
   "cell_type": "code",
   "execution_count": 13,
   "metadata": {},
   "outputs": [
    {
     "data": {
      "text/plain": [
       "Age                           int64\n",
       "Gender                        int64\n",
       "Heart rate                    int64\n",
       "Systolic blood pressure     float64\n",
       "Diastolic blood pressure      int64\n",
       "Blood sugar                 float64\n",
       "CK-MB                       float64\n",
       "Troponin                    float64\n",
       "Result                       object\n",
       "dtype: object"
      ]
     },
     "execution_count": 13,
     "metadata": {},
     "output_type": "execute_result"
    }
   ],
   "source": [
    "data.dtypes  # chaecking whether dtypes is int if yes convert them float or object into integer"
   ]
  },
  {
   "cell_type": "code",
   "execution_count": 14,
   "metadata": {},
   "outputs": [
    {
     "data": {
      "text/plain": [
       "['Systolic blood pressure', 'Blood sugar', 'CK-MB', 'Troponin', 'Result']"
      ]
     },
     "execution_count": 14,
     "metadata": {},
     "output_type": "execute_result"
    }
   ],
   "source": [
    "colname=[]\n",
    "for x in data.columns:\n",
    "    if data[x].dtype=='object'or data[x].dtype=='float64':\n",
    "        colname.append(x)\n",
    "colname                        # converting the data into the int in dtype"
   ]
  },
  {
   "cell_type": "code",
   "execution_count": 15,
   "metadata": {},
   "outputs": [],
   "source": [
    "# For preprocessing the data\n",
    "from sklearn.preprocessing import LabelEncoder\n",
    "le = LabelEncoder()\n",
    "\n",
    "for x in data.columns:\n",
    "    data[x]=le.fit_transform(data[x])              # convert categorical to numerical"
   ]
  },
  {
   "cell_type": "code",
   "execution_count": 16,
   "metadata": {},
   "outputs": [
    {
     "data": {
      "text/html": [
       "<div>\n",
       "<style scoped>\n",
       "    .dataframe tbody tr th:only-of-type {\n",
       "        vertical-align: middle;\n",
       "    }\n",
       "\n",
       "    .dataframe tbody tr th {\n",
       "        vertical-align: top;\n",
       "    }\n",
       "\n",
       "    .dataframe thead th {\n",
       "        text-align: right;\n",
       "    }\n",
       "</style>\n",
       "<table border=\"1\" class=\"dataframe\">\n",
       "  <thead>\n",
       "    <tr style=\"text-align: right;\">\n",
       "      <th></th>\n",
       "      <th>Age</th>\n",
       "      <th>Gender</th>\n",
       "      <th>Heart rate</th>\n",
       "      <th>Systolic blood pressure</th>\n",
       "      <th>Diastolic blood pressure</th>\n",
       "      <th>Blood sugar</th>\n",
       "      <th>CK-MB</th>\n",
       "      <th>Troponin</th>\n",
       "      <th>Result</th>\n",
       "    </tr>\n",
       "  </thead>\n",
       "  <tbody>\n",
       "    <tr>\n",
       "      <th>0</th>\n",
       "      <td>46</td>\n",
       "      <td>1</td>\n",
       "      <td>22</td>\n",
       "      <td>86</td>\n",
       "      <td>44</td>\n",
       "      <td>96</td>\n",
       "      <td>146</td>\n",
       "      <td>11</td>\n",
       "      <td>0</td>\n",
       "    </tr>\n",
       "    <tr>\n",
       "      <th>1</th>\n",
       "      <td>3</td>\n",
       "      <td>1</td>\n",
       "      <td>50</td>\n",
       "      <td>23</td>\n",
       "      <td>7</td>\n",
       "      <td>199</td>\n",
       "      <td>451</td>\n",
       "      <td>251</td>\n",
       "      <td>1</td>\n",
       "    </tr>\n",
       "    <tr>\n",
       "      <th>2</th>\n",
       "      <td>37</td>\n",
       "      <td>1</td>\n",
       "      <td>20</td>\n",
       "      <td>86</td>\n",
       "      <td>38</td>\n",
       "      <td>186</td>\n",
       "      <td>163</td>\n",
       "      <td>2</td>\n",
       "      <td>0</td>\n",
       "    </tr>\n",
       "    <tr>\n",
       "      <th>3</th>\n",
       "      <td>46</td>\n",
       "      <td>1</td>\n",
       "      <td>26</td>\n",
       "      <td>53</td>\n",
       "      <td>16</td>\n",
       "      <td>186</td>\n",
       "      <td>550</td>\n",
       "      <td>102</td>\n",
       "      <td>1</td>\n",
       "    </tr>\n",
       "    <tr>\n",
       "      <th>4</th>\n",
       "      <td>37</td>\n",
       "      <td>1</td>\n",
       "      <td>20</td>\n",
       "      <td>37</td>\n",
       "      <td>26</td>\n",
       "      <td>201</td>\n",
       "      <td>79</td>\n",
       "      <td>2</td>\n",
       "      <td>0</td>\n",
       "    </tr>\n",
       "  </tbody>\n",
       "</table>\n",
       "</div>"
      ],
      "text/plain": [
       "   Age  Gender  Heart rate  Systolic blood pressure  Diastolic blood pressure  \\\n",
       "0   46       1          22                       86                        44   \n",
       "1    3       1          50                       23                         7   \n",
       "2   37       1          20                       86                        38   \n",
       "3   46       1          26                       53                        16   \n",
       "4   37       1          20                       37                        26   \n",
       "\n",
       "   Blood sugar  CK-MB  Troponin  Result  \n",
       "0           96    146        11       0  \n",
       "1          199    451       251       1  \n",
       "2          186    163         2       0  \n",
       "3          186    550       102       1  \n",
       "4          201     79         2       0  "
      ]
     },
     "execution_count": 16,
     "metadata": {},
     "output_type": "execute_result"
    }
   ],
   "source": [
    "data.head()"
   ]
  },
  {
   "cell_type": "code",
   "execution_count": 17,
   "metadata": {},
   "outputs": [
    {
     "data": {
      "image/png": "[encoded data removed]",
      "text/plain": [
       "<Figure size 1440x1440 with 2 Axes>"
      ]
     },
     "metadata": {
      "needs_background": "light"
     },
     "output_type": "display_data"
    }
   ],
   "source": [
    "import seaborn as sns\n",
    "# get correlations of each features in dataset\n",
    "corrmat=data.corr()\n",
    "top_corr_features=corrmat.index\n",
    "plot.figure(figsize=(20,20))\n",
    "#plot the heatmap\n",
    "g=sns.heatmap(data[top_corr_features].corr(),annot=True,cmap='RdYlGn')\n"
   ]
  },
  {
   "cell_type": "code",
   "execution_count": 18,
   "metadata": {},
   "outputs": [],
   "source": [
    "#When we are checking for multi-collinearity between variable we dont want any independent variable \n",
    "#being dependent on the other independent variable..>>>>"
   ]
  },
  {
   "cell_type": "markdown",
   "metadata": {},
   "source": [
    "# EDA part in data"
   ]
  },
  {
   "cell_type": "code",
   "execution_count": 19,
   "metadata": {},
   "outputs": [
    {
     "data": {
      "image/png": "[encoded data removed]",
      "text/plain": [
       "<Figure size 720x288 with 1 Axes>"
      ]
     },
     "metadata": {
      "needs_background": "light"
     },
     "output_type": "display_data"
    },
    {
     "data": {
      "image/png": "[encoded data removed]",
      "text/plain": [
       "<Figure size 720x288 with 1 Axes>"
      ]
     },
     "metadata": {
      "needs_background": "light"
     },
     "output_type": "display_data"
    },
    {
     "data": {
      "image/png": "[encoded data removed]",
      "text/plain": [
       "<Figure size 720x288 with 1 Axes>"
      ]
     },
     "metadata": {
      "needs_background": "light"
     },
     "output_type": "display_data"
    },
    {
     "data": {
      "image/png": "[encoded data removed]",
      "text/plain": [
       "<Figure size 720x288 with 1 Axes>"
      ]
     },
     "metadata": {
      "needs_background": "light"
     },
     "output_type": "display_data"
    },
    {
     "data": {
      "image/png": "[encoded data removed]",
      "text/plain": [
       "<Figure size 720x288 with 1 Axes>"
      ]
     },
     "metadata": {
      "needs_background": "light"
     },
     "output_type": "display_data"
    },
    {
     "data": {
      "image/png": "[encoded data removed]",
      "text/plain": [
       "<Figure size 720x288 with 1 Axes>"
      ]
     },
     "metadata": {
      "needs_background": "light"
     },
     "output_type": "display_data"
    },
    {
     "data": {
      "image/png": "[encoded data removed]",
      "text/plain": [
       "<Figure size 720x288 with 1 Axes>"
      ]
     },
     "metadata": {
      "needs_background": "light"
     },
     "output_type": "display_data"
    },
    {
     "data": {
      "image/png": "[encoded data removed]",
      "text/plain": [
       "<Figure size 720x288 with 1 Axes>"
      ]
     },
     "metadata": {
      "needs_background": "light"
     },
     "output_type": "display_data"
    },
    {
     "data": {
      "image/png": "[encoded data removed]",
      "text/plain": [
       "<Figure size 720x288 with 1 Axes>"
      ]
     },
     "metadata": {
      "needs_background": "light"
     },
     "output_type": "display_data"
    }
   ],
   "source": [
    "import matplotlib.pyplot as plt\n",
    "for col in data.columns:\n",
    "    plt.figure(figsize=(10,4))\n",
    "    sns.barplot(data[col].value_counts().values, data[col].value_counts().index)\n",
    "    plt.title(col)\n",
    "    plt.tight_layout()"
   ]
  },
  {
   "cell_type": "markdown",
   "metadata": {},
   "source": [
    "# in this showing the stable relation variability between them but heart rate & target variable is not showing relationship between them .. its seems the risk of heart attack..."
   ]
  },
  {
   "cell_type": "markdown",
   "metadata": {},
   "source": [
    "# Check age distribution in the dataset"
   ]
  },
  {
   "cell_type": "code",
   "execution_count": 20,
   "metadata": {},
   "outputs": [
    {
     "data": {
      "image/png": "[encoded data removed]",
      "text/plain": [
       "<Figure size 432x288 with 1 Axes>"
      ]
     },
     "metadata": {
      "needs_background": "light"
     },
     "output_type": "display_data"
    }
   ],
   "source": [
    "sns.distplot(data['Age'])\n",
    "plot.show()   # normally distributed data "
   ]
  },
  {
   "cell_type": "markdown",
   "metadata": {},
   "source": [
    "# the normally distributed plot..."
   ]
  },
  {
   "cell_type": "markdown",
   "metadata": {},
   "source": [
    "# Find count of male & female in this dataset"
   ]
  },
  {
   "cell_type": "code",
   "execution_count": 21,
   "metadata": {},
   "outputs": [
    {
     "data": {
      "text/plain": [
       "1    870\n",
       "0    449\n",
       "Name: Gender, dtype: int64"
      ]
     },
     "execution_count": 21,
     "metadata": {},
     "output_type": "execute_result"
    }
   ],
   "source": [
    "data['Gender'].value_counts()"
   ]
  },
  {
   "cell_type": "code",
   "execution_count": 22,
   "metadata": {},
   "outputs": [
    {
     "data": {
      "image/png": "[encoded data removed]",
      "text/plain": [
       "<Figure size 432x288 with 1 Axes>"
      ]
     },
     "metadata": {
      "needs_background": "light"
     },
     "output_type": "display_data"
    }
   ],
   "source": [
    "# Assuming 'data' contains the data for the countplot\n",
    "sns.countplot(data['Gender'])\n",
    "plt.xticks([0, 1], ['Female', 'Male'])\n",
    "plt.show()\n"
   ]
  },
  {
   "cell_type": "markdown",
   "metadata": {},
   "source": [
    "# Around 80% people where male & 30% people where female....."
   ]
  },
  {
   "cell_type": "code",
   "execution_count": 23,
   "metadata": {},
   "outputs": [
    {
     "data": {
      "image/png": "[encoded data removed]",
      "text/plain": [
       "<Figure size 432x288 with 1 Axes>"
      ]
     },
     "metadata": {
      "needs_background": "light"
     },
     "output_type": "display_data"
    },
    {
     "data": {
      "text/plain": [
       "<Figure size 1440x1440 with 0 Axes>"
      ]
     },
     "metadata": {},
     "output_type": "display_data"
    }
   ],
   "source": [
    "  #The glucose column is set to 1 if it is > 120; otherwise, 0.\n",
    "sns.countplot(data['Blood sugar'])\n",
    "plot.figure(figsize=(20,20))\n",
    "plot.show()"
   ]
  },
  {
   "cell_type": "markdown",
   "metadata": {},
   "source": [
    "# it is not greater than 120 is set to 0"
   ]
  },
  {
   "cell_type": "code",
   "execution_count": 24,
   "metadata": {},
   "outputs": [
    {
     "data": {
      "image/png": "[encoded data removed]",
      "text/plain": [
       "<Figure size 432x288 with 1 Axes>"
      ]
     },
     "metadata": {
      "needs_background": "light"
     },
     "output_type": "display_data"
    }
   ],
   "source": [
    "# Assuming 'data' contains the dataset with the 'Heart rate' column\n",
    "heart_rate_data = data['Heart rate']\n",
    "\n",
    "# Create a bar plot to visualize the distribution of heart rates\n",
    "sns.countplot(heart_rate_data)\n",
    "plt.xlabel('Heart Rate')\n",
    "plt.ylabel('Count')\n",
    "plt.title('Distribution of Heart Rates')\n",
    "plt.show()\n"
   ]
  },
  {
   "cell_type": "markdown",
   "metadata": {},
   "source": [
    "# Find gender distribution according to target variable"
   ]
  },
  {
   "cell_type": "code",
   "execution_count": 25,
   "metadata": {},
   "outputs": [
    {
     "data": {
      "image/png": "[encoded data removed]",
      "text/plain": [
       "<Figure size 432x288 with 1 Axes>"
      ]
     },
     "metadata": {
      "needs_background": "light"
     },
     "output_type": "display_data"
    }
   ],
   "source": [
    "#  As for the output, positive is set to 1 and negative to 0. sns.countplot(data['Result'])\n",
    "sns.countplot(x='Gender',hue='Result',data=data)\n",
    "plt.xticks([0, 1], ['Female', 'Male'])\n",
    "plt.legend(labels=['No-Disease','Disease'])\n",
    "plt.show()"
   ]
  },
  {
   "cell_type": "markdown",
   "metadata": {},
   "source": [
    "# showing the result is positive the heart attack chance is more in person..."
   ]
  },
  {
   "cell_type": "code",
   "execution_count": 26,
   "metadata": {},
   "outputs": [
    {
     "data": {
      "text/plain": [
       "Index(['Age', 'Gender', 'Heart rate', 'Systolic blood pressure',\n",
       "       'Diastolic blood pressure', 'Blood sugar', 'CK-MB', 'Troponin',\n",
       "       'Result'],\n",
       "      dtype='object')"
      ]
     },
     "execution_count": 26,
     "metadata": {},
     "output_type": "execute_result"
    }
   ],
   "source": [
    "data.columns"
   ]
  },
  {
   "cell_type": "markdown",
   "metadata": {},
   "source": [
    "# Basic model running on classification dataset"
   ]
  },
  {
   "cell_type": "code",
   "execution_count": 27,
   "metadata": {},
   "outputs": [],
   "source": [
    "X = data.values[:,0:-1]\n",
    "Y = data.values[:, -1]"
   ]
  },
  {
   "cell_type": "code",
   "execution_count": 28,
   "metadata": {},
   "outputs": [
    {
     "name": "stdout",
     "output_type": "stream",
     "text": [
      "(1319, 8)\n",
      "(1319,)\n"
     ]
    }
   ],
   "source": [
    "print(X.shape)\n",
    "()\n",
    "print(Y.shape)"
   ]
  },
  {
   "cell_type": "code",
   "execution_count": 29,
   "metadata": {},
   "outputs": [],
   "source": [
    "#the male is set to 1 and the female to 0.\n",
    "#1>> male\n",
    "#0>>>female"
   ]
  },
  {
   "cell_type": "code",
   "execution_count": 30,
   "metadata": {},
   "outputs": [],
   "source": [
    "#  As for the output, positive is set to 1 and negative to 0. \n",
    "#1>>>+ve\n",
    "#0>>-ve"
   ]
  },
  {
   "cell_type": "code",
   "execution_count": 31,
   "metadata": {},
   "outputs": [],
   "source": [
    "from sklearn.preprocessing import StandardScaler\n",
    "scaler=StandardScaler()\n",
    "scaler.fit(X)\n",
    "\n",
    "X=scaler.transform(X)\n"
   ]
  },
  {
   "cell_type": "code",
   "execution_count": 32,
   "metadata": {},
   "outputs": [],
   "source": [
    "from sklearn.model_selection import train_test_split\n",
    "\n",
    "#Split the data into test and train\n",
    "X_train, X_test, Y_train, Y_test = train_test_split(X, Y, test_size = 0.2, random_state=10)"
   ]
  },
  {
   "cell_type": "code",
   "execution_count": 33,
   "metadata": {},
   "outputs": [
    {
     "name": "stdout",
     "output_type": "stream",
     "text": [
      "[1 1 1 0 0 1 1 1 1 0 1 0 1 1 0 1 1 1 0 1 1 1 0 1 1 1 1 1 1 1 1 1 1 1 1 1 1\n",
      " 0 1 0 1 0 1 0 1 1 1 1 1 1 0 1 1 1 0 0 1 1 0 0 1 1 0 1 1 0 1 0 0 0 0 0 0 1\n",
      " 1 1 0 0 0 1 1 1 1 1 0 1 1 0 0 0 0 1 1 1 1 0 1 0 1 0 0 1 0 1 0 1 1 0 0 1 0\n",
      " 1 1 1 1 1 1 0 1 1 1 0 1 0 1 1 1 0 1 1 1 1 0 0 1 1 1 1 1 1 0 1 1 0 1 1 1 1\n",
      " 1 0 0 1 1 1 0 1 1 0 1 1 1 1 1 1 0 0 0 1 0 0 1 1 1 0 1 0 1 1 0 1 1 0 0 0 1\n",
      " 0 1 1 0 0 1 1 0 0 1 0 1 0 1 1 0 1 0 0 0 1 1 0 0 1 1 1 0 1 1 1 1 1 1 1 0 1\n",
      " 1 0 0 1 1 0 1 1 1 1 0 1 1 0 0 1 0 1 1 1 1 0 1 1 1 0 0 0 0 1 1 1 0 0 1 1 1\n",
      " 0 1 1 0 1]\n"
     ]
    }
   ],
   "source": [
    "from sklearn.linear_model import LogisticRegression\n",
    "# Create a Model\n",
    "classifier = LogisticRegression()\n",
    "# Fit Training data to the model\n",
    "classifier.fit(X_train, Y_train)\n",
    "\n",
    "Y_pred = classifier.predict(X_test)\n",
    "print(Y_pred)"
   ]
  },
  {
   "cell_type": "code",
   "execution_count": 34,
   "metadata": {},
   "outputs": [
    {
     "data": {
      "text/plain": [
       "0.8966824644549763"
      ]
     },
     "execution_count": 34,
     "metadata": {},
     "output_type": "execute_result"
    }
   ],
   "source": [
    "classifier.score(X_train,Y_train)"
   ]
  },
  {
   "cell_type": "code",
   "execution_count": 35,
   "metadata": {},
   "outputs": [
    {
     "name": "stdout",
     "output_type": "stream",
     "text": [
      "[(0, 1), (1, 1), (1, 1), (0, 0), (0, 0), (1, 1), (1, 1), (1, 1), (1, 1), (1, 0), (1, 1), (0, 0), (1, 1), (1, 1), (1, 0), (1, 1), (1, 1), (1, 1), (0, 0), (1, 1), (1, 1), (1, 1), (0, 0), (1, 1), (1, 1), (1, 1), (1, 1), (1, 1), (1, 1), (1, 1), (1, 1), (1, 1), (1, 1), (1, 1), (1, 1), (1, 1), (1, 1), (0, 0), (1, 1), (0, 0), (1, 1), (0, 0), (1, 1), (1, 0), (1, 1), (1, 1), (1, 1), (1, 1), (1, 1), (1, 1), (0, 0), (1, 1), (1, 1), (1, 1), (0, 0), (0, 0), (1, 1), (1, 1), (1, 0), (0, 0), (1, 1), (1, 1), (0, 0), (1, 1), (1, 1), (0, 0), (1, 1), (0, 0), (0, 0), (0, 0), (0, 0), (1, 0), (0, 0), (1, 1), (1, 1), (0, 1), (1, 0), (0, 0), (1, 0), (1, 1), (1, 1), (0, 1), (1, 1), (1, 1), (0, 0), (0, 1), (1, 1), (0, 0), (0, 0), (0, 0), (0, 0), (1, 1), (1, 1), (1, 1), (1, 1), (0, 0), (1, 1), (0, 0), (1, 1), (0, 0), (0, 0), (1, 1), (0, 0), (1, 1), (1, 0), (1, 1), (1, 1), (0, 0), (0, 0), (1, 1), (0, 0), (1, 1), (1, 1), (1, 1), (1, 1), (1, 1), (1, 1), (1, 0), (1, 1), (1, 1), (1, 1), (0, 0), (1, 1), (0, 0), (1, 1), (1, 1), (1, 1), (0, 0), (0, 1), (1, 1), (1, 1), (1, 1), (0, 0), (0, 0), (1, 1), (1, 1), (1, 1), (1, 1), (1, 1), (1, 1), (0, 0), (0, 1), (0, 1), (0, 0), (1, 1), (1, 1), (1, 1), (1, 1), (1, 1), (0, 0), (0, 0), (1, 1), (1, 1), (1, 1), (1, 0), (1, 1), (1, 1), (0, 0), (1, 1), (0, 1), (1, 1), (1, 1), (1, 1), (1, 1), (0, 0), (0, 0), (0, 0), (1, 1), (0, 0), (0, 0), (1, 1), (1, 1), (1, 1), (0, 0), (1, 1), (0, 0), (1, 1), (1, 1), (0, 0), (1, 1), (1, 1), (1, 0), (0, 0), (1, 0), (0, 1), (0, 0), (1, 1), (1, 1), (1, 0), (0, 0), (1, 1), (1, 1), (0, 0), (0, 0), (1, 1), (0, 0), (1, 1), (0, 0), (1, 1), (1, 1), (0, 0), (1, 1), (0, 0), (0, 0), (0, 0), (1, 1), (1, 1), (0, 0), (0, 0), (1, 1), (1, 1), (1, 1), (1, 0), (1, 1), (1, 1), (1, 1), (1, 1), (1, 1), (1, 1), (1, 1), (0, 0), (1, 1), (1, 1), (0, 0), (0, 0), (1, 1), (1, 1), (0, 0), (1, 1), (1, 1), (1, 1), (1, 1), (0, 0), (1, 1), (1, 1), (0, 0), (1, 0), (1, 1), (0, 0), (0, 1), (1, 1), (1, 1), (1, 1), (0, 0), (1, 1), (1, 1), (1, 1), (0, 0), (1, 0), (0, 0), (0, 0), (0, 1), (1, 1), (1, 1), (0, 0), (0, 0), (1, 1), (1, 1), (1, 1), (0, 0), (1, 1), (1, 1), (0, 0), (1, 1)]\n"
     ]
    }
   ],
   "source": [
    "print(list(zip(Y_test, Y_pred)))"
   ]
  },
  {
   "cell_type": "code",
   "execution_count": 36,
   "metadata": {},
   "outputs": [
    {
     "data": {
      "text/plain": [
       "array([1, 1, 1, 0, 0, 1, 1, 1, 1, 0, 1, 0, 1, 1, 0, 1, 1, 1, 0, 1, 1, 1,\n",
       "       0, 1, 1, 1, 1, 1, 1, 1, 1, 1, 1, 1, 1, 1, 1, 0, 1, 0, 1, 0, 1, 0,\n",
       "       1, 1, 1, 1, 1, 1, 0, 1, 1, 1, 0, 0, 1, 1, 0, 0, 1, 1, 0, 1, 1, 0,\n",
       "       1, 0, 0, 0, 0, 0, 0, 1, 1, 1, 0, 0, 0, 1, 1, 1, 1, 1, 0, 1, 1, 0,\n",
       "       0, 0, 0, 1, 1, 1, 1, 0, 1, 0, 1, 0, 0, 1, 0, 1, 0, 1, 1, 0, 0, 1,\n",
       "       0, 1, 1, 1, 1, 1, 1, 0, 1, 1, 1, 0, 1, 0, 1, 1, 1, 0, 1, 1, 1, 1,\n",
       "       0, 0, 1, 1, 1, 1, 1, 1, 0, 1, 1, 0, 1, 1, 1, 1, 1, 0, 0, 1, 1, 1,\n",
       "       0, 1, 1, 0, 1, 1, 1, 1, 1, 1, 0, 0, 0, 1, 0, 0, 1, 1, 1, 0, 1, 0,\n",
       "       1, 1, 0, 1, 1, 0, 0, 0, 1, 0, 1, 1, 0, 0, 1, 1, 0, 0, 1, 0, 1, 0,\n",
       "       1, 1, 0, 1, 0, 0, 0, 1, 1, 0, 0, 1, 1, 1, 0, 1, 1, 1, 1, 1, 1, 1,\n",
       "       0, 1, 1, 0, 0, 1, 1, 0, 1, 1, 1, 1, 0, 1, 1, 0, 0, 1, 0, 1, 1, 1,\n",
       "       1, 0, 1, 1, 1, 0, 0, 0, 0, 1, 1, 1, 0, 0, 1, 1, 1, 0, 1, 1, 0, 1],\n",
       "      dtype=int64)"
      ]
     },
     "execution_count": 36,
     "metadata": {},
     "output_type": "execute_result"
    }
   ],
   "source": [
    "classifier.predict((X_test))"
   ]
  },
  {
   "cell_type": "code",
   "execution_count": 37,
   "metadata": {},
   "outputs": [
    {
     "name": "stdout",
     "output_type": "stream",
     "text": [
      "[[ 79  11]\n",
      " [ 16 158]]\n",
      "Classification report: \n",
      "              precision    recall  f1-score   support\n",
      "\n",
      "           0       0.83      0.88      0.85        90\n",
      "           1       0.93      0.91      0.92       174\n",
      "\n",
      "    accuracy                           0.90       264\n",
      "   macro avg       0.88      0.89      0.89       264\n",
      "weighted avg       0.90      0.90      0.90       264\n",
      "\n",
      "Accuracy of the model:  0.8977272727272727\n"
     ]
    }
   ],
   "source": [
    "from sklearn.metrics import confusion_matrix, accuracy_score, classification_report\n",
    "\n",
    "\n",
    "cfm=confusion_matrix(Y_test,Y_pred)\n",
    "print(cfm)\n",
    "\n",
    "print(\"Classification report: \")\n",
    "\n",
    "print(classification_report(Y_test,Y_pred))\n",
    "\n",
    "acc=accuracy_score(Y_test, Y_pred)\n",
    "print(\"Accuracy of the model: \",acc)"
   ]
  },
  {
   "cell_type": "markdown",
   "metadata": {},
   "source": [
    "# The accuracy of the model is 0.8977, indicating that it correctly predicted 89.77% of the instances.\n",
    "\n",
    "Overall, the model seems to perform well, with high precision, recall, and F1-score for both classes. The accuracy also indicates that the model is fairly accurate in its predictions.\n",
    "\n",
    "\n",
    "\n",
    "\n"
   ]
  },
  {
   "cell_type": "code",
   "execution_count": 38,
   "metadata": {},
   "outputs": [],
   "source": [
    "from sklearn.naive_bayes import GaussianNB\n",
    "from sklearn.svm import SVC\n",
    "from sklearn.tree import DecisionTreeClassifier\n",
    "from sklearn.neighbors import KNeighborsClassifier\n",
    "from sklearn.linear_model import LogisticRegression\n",
    "from sklearn.ensemble import AdaBoostClassifier,RandomForestClassifier,GradientBoostingClassifier\n",
    "from sklearn.metrics import accuracy_score,classification_report,confusion_matrix\n",
    "logreg=LogisticRegression(random_state=10)\n",
    "nb=GaussianNB()\n",
    "knn=KNeighborsClassifier(n_neighbors=int(np.sqrt(len(X_train))),metric=\"euclidean\")\n",
    "svm=SVC(kernel=\"rbf\",gamma=0.1,C=1)\n",
    "RF = RandomForestClassifier()  # Initialize the Random Forest classifier\n",
    "grad = GradientBoostingClassifier() # Assuming 'grad' is defined elsewhere\n",
    "Adboost=AdaBoostClassifier(base_estimator=DecisionTreeClassifier(random_state=10),n_estimators=100,random_state=10)"
   ]
  },
  {
   "cell_type": "code",
   "execution_count": 39,
   "metadata": {},
   "outputs": [
    {
     "name": "stdout",
     "output_type": "stream",
     "text": [
      "[[ 79  11]\n",
      " [ 16 158]]\n",
      "The accuracy of the LogisticRegression model is 89.77272727272727\n",
      "Classification report:\n",
      "               precision    recall  f1-score   support\n",
      "\n",
      "           0       0.83      0.88      0.85        90\n",
      "           1       0.93      0.91      0.92       174\n",
      "\n",
      "    accuracy                           0.90       264\n",
      "   macro avg       0.88      0.89      0.89       264\n",
      "weighted avg       0.90      0.90      0.90       264\n",
      "\n",
      "\n",
      "\n",
      "[[ 87   3]\n",
      " [ 33 141]]\n",
      "The accuracy of the GaussianNB model is 86.36363636363636\n",
      "Classification report:\n",
      "               precision    recall  f1-score   support\n",
      "\n",
      "           0       0.72      0.97      0.83        90\n",
      "           1       0.98      0.81      0.89       174\n",
      "\n",
      "    accuracy                           0.86       264\n",
      "   macro avg       0.85      0.89      0.86       264\n",
      "weighted avg       0.89      0.86      0.87       264\n",
      "\n",
      "\n",
      "\n",
      "[[ 87   3]\n",
      " [  3 171]]\n",
      "The accuracy of the AdaBoostClassifier model is 97.72727272727273\n",
      "Classification report:\n",
      "               precision    recall  f1-score   support\n",
      "\n",
      "           0       0.97      0.97      0.97        90\n",
      "           1       0.98      0.98      0.98       174\n",
      "\n",
      "    accuracy                           0.98       264\n",
      "   macro avg       0.97      0.97      0.97       264\n",
      "weighted avg       0.98      0.98      0.98       264\n",
      "\n",
      "\n",
      "\n",
      "[[ 77  13]\n",
      " [ 40 134]]\n",
      "The accuracy of the KNeighborsClassifier model is 79.92424242424242\n",
      "Classification report:\n",
      "               precision    recall  f1-score   support\n",
      "\n",
      "           0       0.66      0.86      0.74        90\n",
      "           1       0.91      0.77      0.83       174\n",
      "\n",
      "    accuracy                           0.80       264\n",
      "   macro avg       0.78      0.81      0.79       264\n",
      "weighted avg       0.83      0.80      0.80       264\n",
      "\n",
      "\n",
      "\n",
      "[[ 80  10]\n",
      " [ 28 146]]\n",
      "The accuracy of the SVC model is 85.60606060606061\n",
      "Classification report:\n",
      "               precision    recall  f1-score   support\n",
      "\n",
      "           0       0.74      0.89      0.81        90\n",
      "           1       0.94      0.84      0.88       174\n",
      "\n",
      "    accuracy                           0.86       264\n",
      "   macro avg       0.84      0.86      0.85       264\n",
      "weighted avg       0.87      0.86      0.86       264\n",
      "\n",
      "\n",
      "\n",
      "[[ 87   3]\n",
      " [  1 173]]\n",
      "The accuracy of the RandomForestClassifier model is 98.48484848484848\n",
      "Classification report:\n",
      "               precision    recall  f1-score   support\n",
      "\n",
      "           0       0.99      0.97      0.98        90\n",
      "           1       0.98      0.99      0.99       174\n",
      "\n",
      "    accuracy                           0.98       264\n",
      "   macro avg       0.99      0.98      0.98       264\n",
      "weighted avg       0.98      0.98      0.98       264\n",
      "\n",
      "\n",
      "\n",
      "[[ 87   3]\n",
      " [  2 172]]\n",
      "The accuracy of the GradientBoostingClassifier model is 98.10606060606061\n",
      "Classification report:\n",
      "               precision    recall  f1-score   support\n",
      "\n",
      "           0       0.98      0.97      0.97        90\n",
      "           1       0.98      0.99      0.99       174\n",
      "\n",
      "    accuracy                           0.98       264\n",
      "   macro avg       0.98      0.98      0.98       264\n",
      "weighted avg       0.98      0.98      0.98       264\n",
      "\n",
      "\n",
      "\n"
     ]
    }
   ],
   "source": [
    "models = [logreg, nb, Adboost, knn, svm, RF, grad]\n",
    "for model in models:\n",
    "    model.fit(X_train, Y_train)\n",
    "    Y_pred = model.predict(X_test)\n",
    "    accuracy = accuracy_score(Y_test, Y_pred) \n",
    "    clf_report = classification_report(Y_test, Y_pred) \n",
    "    print(confusion_matrix(Y_test, Y_pred))\n",
    "    print(\"The accuracy of the\", type(model).__name__, \"model is\", accuracy*100)\n",
    "    print(\"Classification report:\\n\", clf_report)\n",
    "    print(\"\\n\")\n"
   ]
  },
  {
   "cell_type": "markdown",
   "metadata": {},
   "source": [
    "# Among these models, the Randomforest has the highest F1-scores for both classes (0.98 for class 0 and 0.99for class 1). Therefore, based on the F1-scores, theRandomforestClassifier  is the most efficient in classifying both classes.\n"
   ]
  },
  {
   "cell_type": "code",
   "execution_count": null,
   "metadata": {},
   "outputs": [],
   "source": []
  }
 ],
 "metadata": {
  "kernelspec": {
   "display_name": "Python 3",
   "language": "python",
   "name": "python3"
  },
  "language_info": {
   "codemirror_mode": {
    "name": "ipython",
    "version": 3
   },
   "file_extension": ".py",
   "mimetype": "text/x-python",
   "name": "python",
   "nbconvert_exporter": "python",
   "pygments_lexer": "ipython3",
   "version": "3.7.6"
  }
 },
 "nbformat": 4,
 "nbformat_minor": 4
}
